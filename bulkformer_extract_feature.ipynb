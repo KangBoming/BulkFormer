{
 "cells": [
  {
   "cell_type": "markdown",
   "id": "bdc45937",
   "metadata": {},
   "source": [
    "### BulkFormer feature extraction"
   ]
  },
  {
   "cell_type": "code",
   "execution_count": 1,
   "id": "a2a16039",
   "metadata": {},
   "outputs": [],
   "source": [
    "import os\n",
    "os.environ[\"CUDA_VISIBLE_DEVICES\"] = \"0\"  "
   ]
  },
  {
   "cell_type": "code",
   "execution_count": 40,
   "id": "a2370d53",
   "metadata": {},
   "outputs": [],
   "source": [
    "import math\n",
    "import pandas as pd\n",
    "import numpy as np\n",
    "from tqdm import tqdm\n",
    "from scipy.stats import pearsonr, spearmanr\n",
    "from collections import OrderedDict\n",
    "import torch\n",
    "import torch.nn as nn\n",
    "import torch.nn.functional as F\n",
    "from torch.utils.data import TensorDataset,DataLoader,random_split\n",
    "from torch_geometric.typing import SparseTensor"
   ]
  },
  {
   "cell_type": "code",
   "execution_count": 3,
   "id": "f37e565e",
   "metadata": {},
   "outputs": [],
   "source": [
    "from utils.BulkFormer import BulkFormer"
   ]
  },
  {
   "cell_type": "code",
   "execution_count": 4,
   "id": "5d313cd3",
   "metadata": {},
   "outputs": [],
   "source": [
    "from model.config import model_params"
   ]
  },
  {
   "cell_type": "code",
   "execution_count": 7,
   "id": "ea2afcc5",
   "metadata": {},
   "outputs": [],
   "source": [
    "device = 'cuda'"
   ]
  },
  {
   "cell_type": "code",
   "execution_count": null,
   "id": "fa7f82e1",
   "metadata": {},
   "outputs": [],
   "source": [
    "graph_path = 'data/G_gtex.pt'\n",
    "weights_path = 'data/G_gtex_weight.pt'\n",
    "gene_emb_path = 'data/esm2_feature_concat.pt'"
   ]
  },
  {
   "cell_type": "code",
   "execution_count": 9,
   "id": "ce5485ef",
   "metadata": {},
   "outputs": [],
   "source": [
    "graph = torch.load(graph_path, map_location='cpu', weights_only=False)\n",
    "weights = torch.load(weights_path, map_location='cpu', weights_only=False)\n",
    "graph = SparseTensor(row=graph[1], col=graph[0], value=weights).t().to(device)\n",
    "gene_emb = torch.load(gene_emb_path, map_location='cpu', weights_only=False)\n",
    "model_params['graph'] = graph\n",
    "model_params['gene_emb'] = gene_emb"
   ]
  },
  {
   "cell_type": "code",
   "execution_count": 10,
   "id": "de50a763",
   "metadata": {},
   "outputs": [],
   "source": [
    "model = BulkFormer(**model_params).to(device)"
   ]
  },
  {
   "cell_type": "code",
   "execution_count": null,
   "id": "9bec646d",
   "metadata": {},
   "outputs": [],
   "source": [
    "ckpt_model = torch.load('model/Bulkformer_ckpt_epoch_29.pt',weights_only=False)"
   ]
  },
  {
   "cell_type": "code",
   "execution_count": null,
   "id": "73b8113a",
   "metadata": {},
   "outputs": [],
   "source": [
    "new_state_dict = OrderedDict()\n",
    "for key, value in ckpt_model.items():\n",
    "    new_key = key[7:] if key.startswith(\"module.\") else key\n",
    "    new_state_dict[new_key] = value"
   ]
  },
  {
   "cell_type": "code",
   "execution_count": 14,
   "id": "3938e021",
   "metadata": {},
   "outputs": [
    {
     "data": {
      "text/plain": [
       "<All keys matched successfully>"
      ]
     },
     "execution_count": 14,
     "metadata": {},
     "output_type": "execute_result"
    }
   ],
   "source": [
    "model.load_state_dict(new_state_dict)"
   ]
  },
  {
   "cell_type": "code",
   "execution_count": 15,
   "id": "67e44d41",
   "metadata": {},
   "outputs": [],
   "source": [
    "def extract_feature(expr_array, \n",
    "                    high_var_gene_idx,\n",
    "                    feature_type,\n",
    "                    aggregate_type,\n",
    "                    device,\n",
    "                    batch_size,\n",
    "                    return_expr_value = False,\n",
    "                    esm2_emb = None,\n",
    "                    valid_gene_idx = None):\n",
    "    # 构建dataloader\n",
    "    expr_tensor = torch.tensor(expr_array,dtype=torch.float32,device=device)\n",
    "    mydataset = TensorDataset(expr_tensor)\n",
    "    myloader = DataLoader(mydataset, batch_size=batch_size, shuffle=False) \n",
    "    model.eval()\n",
    "\n",
    "    all_emb_list = []\n",
    "    all_expr_value_list = []\n",
    "\n",
    "    # 转录组水平特征提取\n",
    "    with torch.no_grad():\n",
    "        if feature_type == 'transcriptome_level':\n",
    "            for (X,) in tqdm(myloader, total=len(myloader)):\n",
    "                X = X.to(device)\n",
    "                output, emb = model(X, [2])\n",
    "                all_expr_value_list.append(output.detach().cpu().numpy())\n",
    "                emb = emb[2].detach().cpu().numpy()\n",
    "                emb_valid = emb[:,high_var_gene_idx,:]\n",
    "                # 采用不同的策略对特征进行聚合\n",
    "                if aggregate_type == 'max':\n",
    "                    final_emb =np.max(emb_valid, axis=1)\n",
    "                elif aggregate_type == 'mean':\n",
    "                    final_emb =np.mean(emb_valid, axis=1)\n",
    "                elif aggregate_type == 'median':\n",
    "                    final_emb =np.median(emb_valid, axis=1)\n",
    "                elif aggregate_type == 'all':\n",
    "                    max_emb =np.max(emb_valid, axis=1)\n",
    "                    mean_emb =np.mean(emb_valid, axis=1)\n",
    "                    median_emb =np.median(emb_valid, axis=1)\n",
    "                    final_emb = max_emb+mean_emb+median_emb\n",
    "\n",
    "                all_emb_list.append(final_emb)\n",
    "            result_emb = np.vstack(all_emb_list)\n",
    "            result_emb = torch.tensor(result_emb,device='cpu',dtype=torch.float32)\n",
    "\n",
    "        elif feature_type == 'gene_level':\n",
    "            for (X,) in tqdm(myloader, total=len(myloader)):\n",
    "                X = X.to(device)\n",
    "                output, emb = model(X, [2])\n",
    "                emb = emb[2].detach().cpu().numpy()\n",
    "                emb_valid = emb[:,valid_gene_idx,:]\n",
    "                all_emb_list.append(emb_valid)\n",
    "                all_expr_value_list.append(output.detach().cpu().numpy())\n",
    "            all_emb = np.vstack(all_emb_list)\n",
    "            all_emb_tensor = torch.tensor(all_emb,device='cpu',dtype=torch.float32)\n",
    "            esm2_emb_selected = esm2_emb[valid_gene_idx]\n",
    "            esm2_emb_expanded = esm2_emb_selected.unsqueeze(0).expand(all_emb_tensor.shape[0], -1, -1)  # [B, N, D]\n",
    "            esm2_emb_expanded = esm2_emb_expanded.to('cpu')\n",
    "            # 在最后一个维度拼接 -> [B, N, 640+1280]\n",
    "            result_emb = torch.cat([all_emb_tensor, esm2_emb_expanded], dim=-1)\n",
    "    \n",
    "    if return_expr_value:\n",
    "        return np.vstack(all_expr_value_list)\n",
    "    \n",
    "    else:\n",
    "        return result_emb"
   ]
  },
  {
   "cell_type": "code",
   "execution_count": null,
   "id": "55f89a10",
   "metadata": {},
   "outputs": [],
   "source": [
    "def main_gene_selection(X_df, gene_list):\n",
    "\n",
    "    to_fill_columns = list(set(gene_list) - set(X_df.columns))\n",
    "\n",
    "    # 使用-10(训练中的mask token)来填充缺失的基因\n",
    "    padding_df = pd.DataFrame(np.full((X_df.shape[0], len(to_fill_columns)), -10), \n",
    "                            columns=to_fill_columns, \n",
    "                            index=X_df.index)\n",
    "\n",
    "    X_df = pd.DataFrame(np.concatenate([df.values for df in [X_df, padding_df]], axis=1), \n",
    "                        index=X_df.index, \n",
    "                        columns=list(X_df.columns) + list(padding_df.columns))\n",
    "    X_df = X_df[gene_list]\n",
    "    \n",
    "    var = pd.DataFrame(index=X_df.columns)\n",
    "    var['mask'] = [1 if i in to_fill_columns else 0 for i in list(var.index)]\n",
    "    return X_df, to_fill_columns,var"
   ]
  },
  {
   "cell_type": "code",
   "execution_count": null,
   "id": "6b3718e5",
   "metadata": {},
   "outputs": [],
   "source": [
    "# load demo data\n",
    "demo_df = pd.read_csv('data/demo.csv')"
   ]
  },
  {
   "cell_type": "code",
   "execution_count": null,
   "id": "55cbafdf",
   "metadata": {},
   "outputs": [],
   "source": [
    "bulkformer_gene_info = pd.read_csv('data/bulkformer_gene_info.csv')"
   ]
  },
  {
   "cell_type": "code",
   "execution_count": 20,
   "id": "ed6f15d5",
   "metadata": {},
   "outputs": [],
   "source": [
    "bulkformer_gene_list = bulkformer_gene_info['ensg_id'].to_list()"
   ]
  },
  {
   "cell_type": "code",
   "execution_count": 21,
   "id": "05327887",
   "metadata": {},
   "outputs": [],
   "source": [
    "input_df , to_fill_columns, var= main_gene_selection(X_df=demo_df,gene_list=bulkformer_gene_list)"
   ]
  },
  {
   "cell_type": "code",
   "execution_count": null,
   "id": "cee387b3",
   "metadata": {},
   "outputs": [],
   "source": [
    "var.reset_index(inplace=True)\n",
    "valid_gene_idx = list(var[var['mask'] == 0].index)"
   ]
  },
  {
   "cell_type": "code",
   "execution_count": null,
   "id": "e934a2ce",
   "metadata": {},
   "outputs": [],
   "source": [
    "high_var_gene_idx = torch.load('data/high_var_gene_list.pt',weights_only=False)"
   ]
  },
  {
   "cell_type": "code",
   "execution_count": 32,
   "id": "e1ec8ba2",
   "metadata": {},
   "outputs": [
    {
     "name": "stderr",
     "output_type": "stream",
     "text": [
      "100%|██████████| 4/4 [00:04<00:00,  1.10s/it]\n"
     ]
    }
   ],
   "source": [
    "# Extract transcritome-level embedding\n",
    "result = extract_feature(\n",
    "    expr_array= input_df.values[:16],\n",
    "    high_var_gene_idx=high_var_gene_idx,\n",
    "    feature_type='transcriptome_level',\n",
    "    aggregate_type='max',\n",
    "    device=device,\n",
    "    batch_size=4,\n",
    "    return_expr_value=False,\n",
    "    esm2_emb=model_params['gene_emb'],\n",
    "    valid_gene_idx=valid_gene_idx\n",
    ")"
   ]
  },
  {
   "cell_type": "code",
   "execution_count": 33,
   "id": "a82275bf",
   "metadata": {},
   "outputs": [
    {
     "data": {
      "text/plain": [
       "torch.Size([16, 640])"
      ]
     },
     "execution_count": 33,
     "metadata": {},
     "output_type": "execute_result"
    }
   ],
   "source": [
    "result.shape"
   ]
  },
  {
   "cell_type": "code",
   "execution_count": 34,
   "id": "b38e50c5",
   "metadata": {},
   "outputs": [
    {
     "name": "stderr",
     "output_type": "stream",
     "text": [
      "100%|██████████| 4/4 [00:04<00:00,  1.15s/it]\n"
     ]
    }
   ],
   "source": [
    "# Extract gene-level embedding\n",
    "result = extract_feature(\n",
    "    expr_array= input_df.values[:16],\n",
    "    high_var_gene_idx=high_var_gene_idx,\n",
    "    feature_type='gene_level',\n",
    "    aggregate_type='all',\n",
    "    device=device,\n",
    "    batch_size=4,\n",
    "    return_expr_value=False,\n",
    "    esm2_emb=model_params['gene_emb'],\n",
    "    valid_gene_idx=valid_gene_idx\n",
    ")"
   ]
  },
  {
   "cell_type": "code",
   "execution_count": 35,
   "id": "7d902a1a",
   "metadata": {},
   "outputs": [
    {
     "data": {
      "text/plain": [
       "torch.Size([16, 20010, 1920])"
      ]
     },
     "execution_count": 35,
     "metadata": {},
     "output_type": "execute_result"
    }
   ],
   "source": [
    "result.shape"
   ]
  },
  {
   "cell_type": "code",
   "execution_count": 36,
   "id": "3369f68d",
   "metadata": {},
   "outputs": [
    {
     "name": "stderr",
     "output_type": "stream",
     "text": [
      "100%|██████████| 4/4 [00:04<00:00,  1.21s/it]\n"
     ]
    }
   ],
   "source": [
    "# Extract expression values\n",
    "result = extract_feature(\n",
    "    expr_array= input_df.values[:16],\n",
    "    high_var_gene_idx=high_var_gene_idx,\n",
    "    feature_type='transcriptome_level',\n",
    "    aggregate_type='all',\n",
    "    device=device,\n",
    "    batch_size=4,\n",
    "    return_expr_value=True,\n",
    "    esm2_emb=model_params['gene_emb'],\n",
    "    valid_gene_idx=valid_gene_idx\n",
    ")"
   ]
  },
  {
   "cell_type": "code",
   "execution_count": 37,
   "id": "cb76cce0",
   "metadata": {},
   "outputs": [
    {
     "data": {
      "text/plain": [
       "(16, 20010)"
      ]
     },
     "execution_count": 37,
     "metadata": {},
     "output_type": "execute_result"
    }
   ],
   "source": [
    "result.shape"
   ]
  },
  {
   "cell_type": "code",
   "execution_count": null,
   "id": "3c579789",
   "metadata": {},
   "outputs": [],
   "source": []
  },
  {
   "cell_type": "code",
   "execution_count": null,
   "id": "344d2fa0",
   "metadata": {},
   "outputs": [],
   "source": []
  },
  {
   "cell_type": "code",
   "execution_count": null,
   "id": "3ffe756d",
   "metadata": {},
   "outputs": [],
   "source": []
  },
  {
   "cell_type": "code",
   "execution_count": null,
   "id": "b97bfd4b",
   "metadata": {},
   "outputs": [],
   "source": []
  },
  {
   "cell_type": "code",
   "execution_count": null,
   "id": "3ef71cb2",
   "metadata": {},
   "outputs": [],
   "source": []
  }
 ],
 "metadata": {
  "kernelspec": {
   "display_name": "bulk",
   "language": "python",
   "name": "python3"
  },
  "language_info": {
   "codemirror_mode": {
    "name": "ipython",
    "version": 3
   },
   "file_extension": ".py",
   "mimetype": "text/x-python",
   "name": "python",
   "nbconvert_exporter": "python",
   "pygments_lexer": "ipython3",
   "version": "3.12.7"
  }
 },
 "nbformat": 4,
 "nbformat_minor": 5
}
