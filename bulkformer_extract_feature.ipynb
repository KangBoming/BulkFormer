{
 "cells": [
  {
   "cell_type": "markdown",
   "id": "bdc45937",
   "metadata": {},
   "source": [
    "### BulkFormer feature extraction"
   ]
  },
  {
   "cell_type": "code",
   "execution_count": 1,
   "id": "a2a16039",
   "metadata": {},
   "outputs": [],
   "source": [
    "import os\n",
    "os.environ[\"CUDA_VISIBLE_DEVICES\"] = \"0\"  "
   ]
  },
  {
   "cell_type": "code",
   "execution_count": 64,
   "id": "a2370d53",
   "metadata": {},
   "outputs": [],
   "source": [
    "import math\n",
    "import pandas as pd\n",
    "import numpy as np\n",
    "from tqdm import tqdm\n",
    "from scipy.stats import pearsonr, spearmanr\n",
    "from collections import OrderedDict\n",
    "import torch\n",
    "import torch.nn as nn\n",
    "import torch.nn.functional as F\n",
    "from torch.utils.data import TensorDataset,DataLoader,random_split\n",
    "from torch_geometric.typing import SparseTensor\n",
    "from utils.BulkFormer import BulkFormer\n",
    "from model.config import model_params"
   ]
  },
  {
   "cell_type": "code",
   "execution_count": 4,
   "id": "ea2afcc5",
   "metadata": {},
   "outputs": [],
   "source": [
    "# Configuration\n",
    "device = 'cuda'\n",
    "graph_path = 'data/G_gtex.pt'\n",
    "weights_path = 'data/G_gtex_weight.pt'\n",
    "gene_emb_path = 'data/esm2_feature_concat.pt'"
   ]
  },
  {
   "cell_type": "code",
   "execution_count": 5,
   "id": "ce5485ef",
   "metadata": {},
   "outputs": [],
   "source": [
    "# Initialize the BulkFormer model with preloaded graph structure and gene embeddings.\n",
    "graph = torch.load(graph_path, map_location='cpu', weights_only=False)\n",
    "weights = torch.load(weights_path, map_location='cpu', weights_only=False)\n",
    "graph = SparseTensor(row=graph[1], col=graph[0], value=weights).t().to(device)\n",
    "gene_emb = torch.load(gene_emb_path, map_location='cpu', weights_only=False)\n",
    "model_params['graph'] = graph\n",
    "model_params['gene_emb'] = gene_emb\n",
    "model = BulkFormer(**model_params).to(device)"
   ]
  },
  {
   "cell_type": "code",
   "execution_count": 6,
   "id": "9bec646d",
   "metadata": {},
   "outputs": [
    {
     "data": {
      "text/plain": [
       "<All keys matched successfully>"
      ]
     },
     "execution_count": 6,
     "metadata": {},
     "output_type": "execute_result"
    }
   ],
   "source": [
    "# Load the pretrained BulkFormer model checkpoint for inference or fine-tuning.\n",
    "ckpt_model = torch.load('model/Bulkformer_ckpt_epoch_29.pt',weights_only=False)\n",
    "\n",
    "new_state_dict = OrderedDict()\n",
    "for key, value in ckpt_model.items():\n",
    "    new_key = key[7:] if key.startswith(\"module.\") else key\n",
    "    new_state_dict[new_key] = value\n",
    "\n",
    "model.load_state_dict(new_state_dict)"
   ]
  },
  {
   "cell_type": "code",
   "execution_count": 7,
   "id": "5f97af87",
   "metadata": {},
   "outputs": [],
   "source": [
    "def normalize_data(X_df, gene_length_dict):\n",
    "    \"\"\"\n",
    "    Normalize RNA-seq count data to log-transformed TPM values.\n",
    "\n",
    "    Parameters\n",
    "    ----------\n",
    "    X_df : pandas.DataFrame\n",
    "        A gene expression matrix where rows represent samples and columns represent genes.\n",
    "        Each entry contains the raw read count of a gene in a given sample.\n",
    "\n",
    "    gene_length_dict : dict\n",
    "        A dictionary mapping gene identifiers (Ensembl gene IDs) to gene lengths (in base pairs).\n",
    "\n",
    "    Returns\n",
    "    -------\n",
    "    log_tpm_df : pandas.DataFrame\n",
    "        A DataFrame of the same shape as `X_df`, containing log-transformed TPM values\n",
    "        (i.e., log(TPM + 1)) for each gene in each sample.\n",
    "\n",
    "    Description\n",
    "    -----------\n",
    "    This function converts raw RNA-seq count data to transcripts per million (TPM) values by\n",
    "    normalizing for gene length and sample-specific total expression. Gene lengths are provided\n",
    "    via `gene_length_dict`, and genes not present in the dictionary are assigned a default\n",
    "    length of 1,000 bp (equivalent to no correction). The resulting TPM values are subsequently\n",
    "    log-transformed using the natural logarithm (log1p). This normalization procedure accounts\n",
    "    for both gene length and sequencing depth, facilitating cross-sample and cross-gene comparisons.\n",
    "    \"\"\"\n",
    "    gene_names = X_df.columns\n",
    "    gene_lengths_kb = np.array([gene_length_dict.get(gene, 1000) / 1000  for gene in gene_names])\n",
    "    counts_matirx = X_df.values\n",
    "    rate = counts_matirx / gene_lengths_kb\n",
    "    sum_per_sample = rate.sum(axis=1)\n",
    "    sum_per_sample[sum_per_sample == 0] = 1e-6  \n",
    "    sum_per_sample = sum_per_sample.reshape(-1, 1)\n",
    "    tpm = rate / sum_per_sample * 1e6\n",
    "    log_tpm = np.log1p(tpm)\n",
    "    log_tpm_df = pd.DataFrame(log_tpm,index=X_df.index, columns=X_df.columns)\n",
    "    return log_tpm_df"
   ]
  },
  {
   "cell_type": "code",
   "execution_count": 8,
   "id": "55f89a10",
   "metadata": {},
   "outputs": [],
   "source": [
    "def main_gene_selection(X_df, gene_list):\n",
    "    \"\"\"\n",
    "    Aligns a gene expression matrix to a predefined gene list by adding placeholder values\n",
    "    for missing genes and generating a binary mask indicating imputed entries.\n",
    "\n",
    "    Parameters\n",
    "    ----------\n",
    "    X_df : pandas.DataFrame\n",
    "        A gene expression matrix with rows representing samples and columns representing genes.\n",
    "        The entries are typically log-transformed or normalized expression values.\n",
    "\n",
    "    gene_list : list of str\n",
    "        A predefined list of gene identifiers (Ensembl Gene IDs) to be retained\n",
    "        in the final matrix. This list defines the desired gene space for downstream analyses.\n",
    "\n",
    "    Returns\n",
    "    -------\n",
    "    X_df : pandas.DataFrame\n",
    "        A gene expression matrix aligned to `gene_list`, with missing genes filled with a constant\n",
    "        placeholder value (−10) and columns ordered accordingly.\n",
    "\n",
    "    to_fill_columns : list of str\n",
    "        A list of genes from `gene_list` that were not present in the original `X_df`\n",
    "        and were therefore added with placeholder values.\n",
    "\n",
    "    var : pandas.DataFrame\n",
    "        A DataFrame with one row per gene, containing a binary column `'mask'` indicating\n",
    "        whether a gene was imputed (1) or originally present (0). This can be used for masking\n",
    "        in training or evaluation of models that distinguish observed and imputed entries.\n",
    "\n",
    "    Notes\n",
    "    -----\n",
    "    This function ensures that all samples share a consistent gene space, which is essential\n",
    "    for tasks such as model training, cross-dataset integration, or visualization. Placeholder\n",
    "    values (−10) are used to maintain matrix shape while avoiding unintended bias in downstream\n",
    "    statistical analyses or machine learning models.\n",
    "    \"\"\"\n",
    "    to_fill_columns = list(set(gene_list) - set(X_df.columns))\n",
    "\n",
    "    padding_df = pd.DataFrame(np.full((X_df.shape[0], len(to_fill_columns)), -10), \n",
    "                            columns=to_fill_columns, \n",
    "                            index=X_df.index)\n",
    "\n",
    "    X_df = pd.DataFrame(np.concatenate([df.values for df in [X_df, padding_df]], axis=1), \n",
    "                        index=X_df.index, \n",
    "                        columns=list(X_df.columns) + list(padding_df.columns))\n",
    "    X_df = X_df[gene_list]\n",
    "    \n",
    "    var = pd.DataFrame(index=X_df.columns)\n",
    "    var['mask'] = [1 if i in to_fill_columns else 0 for i in list(var.index)]\n",
    "    return X_df, to_fill_columns,var"
   ]
  },
  {
   "cell_type": "code",
   "execution_count": 9,
   "id": "428327ac",
   "metadata": {},
   "outputs": [],
   "source": [
    "def extract_feature(expr_array, \n",
    "                    high_var_gene_idx,\n",
    "                    feature_type,\n",
    "                    aggregate_type,\n",
    "                    device,\n",
    "                    batch_size,\n",
    "                    return_expr_value = False,\n",
    "                    esm2_emb = None,\n",
    "                    valid_gene_idx = None):\n",
    "    \"\"\"\n",
    "    Extracts transcriptome-level or gene-level feature representations from input expression profiles\n",
    "    using a pre-trained deep learning model.\n",
    "\n",
    "    Parameters\n",
    "    ----------\n",
    "    expr_array : np.ndarray\n",
    "        A NumPy array of shape [N_samples, N_genes] representing gene expression profiles\n",
    "        (e.g., log-transformed TPM values).\n",
    "\n",
    "    high_var_gene_idx : list or np.ndarray\n",
    "        Indices of highly variable genes used for transcriptome-level embedding aggregation.\n",
    "\n",
    "    feature_type : str\n",
    "        Specifies the type of feature to extract. Options:\n",
    "            - 'transcriptome_level': aggregate gene embeddings to a single sample-level vector.\n",
    "            - 'gene_level': retain per-gene embeddings for downstream fusion with external embeddings (e.g., ESM2).\n",
    "\n",
    "    aggregate_type : str\n",
    "        Aggregation method used when `feature_type='transcriptome_level'`. Options include:\n",
    "            - 'max': use maximum value across selected genes.\n",
    "            - 'mean': use average value.\n",
    "            - 'median': use median value.\n",
    "            - 'all': combine all three strategies by summation.\n",
    "\n",
    "    device : torch.device\n",
    "        Computation device (e.g., 'cuda' or 'cpu') for model inference.\n",
    "\n",
    "    batch_size : int\n",
    "        Number of samples per batch during feature extraction.\n",
    "\n",
    "    return_expr_value : bool, optional\n",
    "        If True, return predicted gene expression values instead of extracted embeddings. Default is False.\n",
    "\n",
    "    esm2_emb : torch.Tensor, optional\n",
    "        Precomputed ESM2 embeddings for all genes, used in gene-level feature concatenation.\n",
    "        Required if `feature_type='gene_level'`.\n",
    "\n",
    "    valid_gene_idx : list or np.ndarray, optional\n",
    "        Indices of valid genes to be retained in gene-level embedding extraction.\n",
    "\n",
    "    Returns\n",
    "    -------\n",
    "    result_emb : torch.Tensor\n",
    "        The extracted feature representations:\n",
    "            - [N_samples, D] for transcriptome-level features.\n",
    "            - [N_samples, N_genes, D_concat] for gene-level features with ESM2 concatenation.\n",
    "\n",
    "    or (if `return_expr_value=True`)\n",
    "    expr_predictions : np.ndarray\n",
    "        Model-predicted expression profiles for all samples.\n",
    "\n",
    "    Notes\n",
    "    -----\n",
    "    This function supports two types of transcriptomic representations:\n",
    "    (1) transcriptome-level features derived by aggregating gene-level embeddings from a deep model, and\n",
    "    (2) gene-level embeddings optionally fused with external protein-based features such as ESM2.\n",
    "    This allows flexible integration of expression and sequence-based representations for downstream tasks\n",
    "    such as drug response prediction, disease classification, or feature alignment in multi-modal settings.\n",
    "    \"\"\"\n",
    "\n",
    "    expr_tensor = torch.tensor(expr_array,dtype=torch.float32,device=device)\n",
    "    mydataset = TensorDataset(expr_tensor)\n",
    "    myloader = DataLoader(mydataset, batch_size=batch_size, shuffle=False) \n",
    "    model.eval()\n",
    "\n",
    "    all_emb_list = []\n",
    "    all_expr_value_list = []\n",
    "\n",
    "    with torch.no_grad():\n",
    "        if feature_type == 'transcriptome_level':\n",
    "            for (X,) in tqdm(myloader, total=len(myloader)):\n",
    "                X = X.to(device)\n",
    "                output, emb = model(X, [2])\n",
    "                all_expr_value_list.append(output.detach().cpu().numpy())\n",
    "                emb = emb[2].detach().cpu().numpy()\n",
    "                emb_valid = emb[:,high_var_gene_idx,:]\n",
    " \n",
    "                if aggregate_type == 'max':\n",
    "                    final_emb =np.max(emb_valid, axis=1)\n",
    "                elif aggregate_type == 'mean':\n",
    "                    final_emb =np.mean(emb_valid, axis=1)\n",
    "                elif aggregate_type == 'median':\n",
    "                    final_emb =np.median(emb_valid, axis=1)\n",
    "                elif aggregate_type == 'all':\n",
    "                    max_emb =np.max(emb_valid, axis=1)\n",
    "                    mean_emb =np.mean(emb_valid, axis=1)\n",
    "                    median_emb =np.median(emb_valid, axis=1)\n",
    "                    final_emb = max_emb+mean_emb+median_emb\n",
    "\n",
    "                all_emb_list.append(final_emb)\n",
    "            result_emb = np.vstack(all_emb_list)\n",
    "            result_emb = torch.tensor(result_emb,device='cpu',dtype=torch.float32)\n",
    "\n",
    "        elif feature_type == 'gene_level':\n",
    "            for (X,) in tqdm(myloader, total=len(myloader)):\n",
    "                X = X.to(device)\n",
    "                output, emb = model(X, [2])\n",
    "                emb = emb[2].detach().cpu().numpy()\n",
    "                emb_valid = emb[:,valid_gene_idx,:]\n",
    "                all_emb_list.append(emb_valid)\n",
    "                all_expr_value_list.append(output.detach().cpu().numpy())\n",
    "            all_emb = np.vstack(all_emb_list)\n",
    "            all_emb_tensor = torch.tensor(all_emb,device='cpu',dtype=torch.float32)\n",
    "            esm2_emb_selected = esm2_emb[valid_gene_idx]\n",
    "            esm2_emb_expanded = esm2_emb_selected.unsqueeze(0).expand(all_emb_tensor.shape[0], -1, -1) \n",
    "            esm2_emb_expanded = esm2_emb_expanded.to('cpu')\n",
    "\n",
    "            result_emb = torch.cat([all_emb_tensor, esm2_emb_expanded], dim=-1)\n",
    "    \n",
    "    if return_expr_value:\n",
    "        return np.vstack(all_expr_value_list)\n",
    "    \n",
    "    else:\n",
    "        return result_emb"
   ]
  },
  {
   "cell_type": "code",
   "execution_count": null,
   "id": "6b3718e5",
   "metadata": {},
   "outputs": [],
   "source": [
    "# Load demo normalized data (log-transformed TPM)\n",
    "log_tpm_df = pd.read_csv('data/demo_normalized_data.csv')"
   ]
  },
  {
   "cell_type": "code",
   "execution_count": 34,
   "id": "18ede26e",
   "metadata": {},
   "outputs": [],
   "source": [
    "# Load demo count data (raw count)\n",
    "count_df = pd.read_csv('data/demo_count_data.csv')"
   ]
  },
  {
   "cell_type": "code",
   "execution_count": 35,
   "id": "9d6a8638",
   "metadata": {},
   "outputs": [],
   "source": [
    "# Convert raw counts to normalized expression values (log-transformed TPM)\n",
    "gene_length_df = pd.read_csv('data/gene_length_df.csv')\n",
    "gene_length_dict = gene_length_df.set_index('ensg_id')['length'].to_dict()\n",
    "log_tpm_df = normalize_data(X_df=count_df, gene_length_dict=gene_length_dict)"
   ]
  },
  {
   "cell_type": "code",
   "execution_count": 36,
   "id": "55cbafdf",
   "metadata": {},
   "outputs": [],
   "source": [
    "bulkformer_gene_info = pd.read_csv('data/bulkformer_gene_info.csv')\n",
    "bulkformer_gene_list = bulkformer_gene_info['ensg_id'].to_list()"
   ]
  },
  {
   "cell_type": "code",
   "execution_count": 37,
   "id": "05327887",
   "metadata": {},
   "outputs": [],
   "source": [
    "# Align expression data to a predefined gene list with placeholder imputation for missing genes.\n",
    "input_df , to_fill_columns, var= main_gene_selection(X_df=log_tpm_df,gene_list=bulkformer_gene_list)"
   ]
  },
  {
   "cell_type": "code",
   "execution_count": 38,
   "id": "cee387b3",
   "metadata": {},
   "outputs": [],
   "source": [
    "var.reset_index(inplace=True)\n",
    "valid_gene_idx = list(var[var['mask'] == 0].index)"
   ]
  },
  {
   "cell_type": "code",
   "execution_count": 39,
   "id": "e934a2ce",
   "metadata": {},
   "outputs": [],
   "source": [
    "high_var_gene_idx = torch.load('data/high_var_gene_list.pt',weights_only=False)"
   ]
  },
  {
   "cell_type": "code",
   "execution_count": 41,
   "id": "e1ec8ba2",
   "metadata": {},
   "outputs": [
    {
     "name": "stderr",
     "output_type": "stream",
     "text": [
      "100%|██████████| 4/4 [00:04<00:00,  1.12s/it]\n"
     ]
    }
   ],
   "source": [
    "# Extract transcritome-level embedding\n",
    "res1 = extract_feature(\n",
    "    expr_array= input_df.values[:16],\n",
    "    high_var_gene_idx=high_var_gene_idx,\n",
    "    feature_type='transcriptome_level',\n",
    "    aggregate_type='max',\n",
    "    device=device,\n",
    "    batch_size=4,\n",
    "    return_expr_value=False,\n",
    "    esm2_emb=model_params['gene_emb'],\n",
    "    valid_gene_idx=valid_gene_idx\n",
    ")"
   ]
  },
  {
   "cell_type": "code",
   "execution_count": 42,
   "id": "a82275bf",
   "metadata": {},
   "outputs": [
    {
     "data": {
      "text/plain": [
       "torch.Size([16, 640])"
      ]
     },
     "execution_count": 42,
     "metadata": {},
     "output_type": "execute_result"
    }
   ],
   "source": [
    "res1.shape"
   ]
  },
  {
   "cell_type": "code",
   "execution_count": 43,
   "id": "36e89a8e",
   "metadata": {},
   "outputs": [
    {
     "data": {
      "text/plain": [
       "tensor([[0.7260, 0.6496, 0.5655,  ..., 1.4178, 1.4416, 0.9152],\n",
       "        [0.8606, 0.5044, 0.5764,  ..., 1.6397, 1.8156, 1.0455],\n",
       "        [0.7369, 0.6450, 0.5741,  ..., 1.6920, 1.5773, 1.0917],\n",
       "        ...,\n",
       "        [0.8528, 0.6433, 0.4971,  ..., 1.4733, 1.5902, 1.0816],\n",
       "        [0.6435, 0.7442, 0.6239,  ..., 1.2714, 1.8716, 1.0143],\n",
       "        [0.8938, 0.5444, 0.4105,  ..., 1.2515, 1.6817, 0.9039]])"
      ]
     },
     "execution_count": 43,
     "metadata": {},
     "output_type": "execute_result"
    }
   ],
   "source": [
    "res1"
   ]
  },
  {
   "cell_type": "code",
   "execution_count": 44,
   "id": "b38e50c5",
   "metadata": {},
   "outputs": [
    {
     "name": "stderr",
     "output_type": "stream",
     "text": [
      "100%|██████████| 4/4 [00:04<00:00,  1.17s/it]\n"
     ]
    }
   ],
   "source": [
    "# Extract gene-level embedding\n",
    "res2 = extract_feature(\n",
    "    expr_array= input_df.values[:16],\n",
    "    high_var_gene_idx=high_var_gene_idx,\n",
    "    feature_type='gene_level',\n",
    "    aggregate_type='all',\n",
    "    device=device,\n",
    "    batch_size=4,\n",
    "    return_expr_value=False,\n",
    "    esm2_emb=model_params['gene_emb'],\n",
    "    valid_gene_idx=valid_gene_idx\n",
    ")"
   ]
  },
  {
   "cell_type": "code",
   "execution_count": 45,
   "id": "7d902a1a",
   "metadata": {},
   "outputs": [
    {
     "data": {
      "text/plain": [
       "torch.Size([16, 20010, 1920])"
      ]
     },
     "execution_count": 45,
     "metadata": {},
     "output_type": "execute_result"
    }
   ],
   "source": [
    "res2.shape"
   ]
  },
  {
   "cell_type": "code",
   "execution_count": 46,
   "id": "768fac44",
   "metadata": {},
   "outputs": [
    {
     "data": {
      "text/plain": [
       "tensor([[[-3.5360e-01, -1.6242e+00, -3.5189e-01,  ..., -9.7180e-02,\n",
       "          -1.1555e-01, -6.9436e-02],\n",
       "         [ 1.4793e-01, -1.6561e+00, -1.6825e-01,  ..., -9.2917e-02,\n",
       "          -1.0225e-02,  7.4865e-02],\n",
       "         [-1.3270e+00, -1.5774e+00, -2.7984e-01,  ..., -1.5073e-01,\n",
       "          -1.7446e-02,  1.4547e-01],\n",
       "         ...,\n",
       "         [-4.7221e-01, -1.6490e+00, -3.5948e-01,  ..., -3.1607e-02,\n",
       "           7.7570e-03,  9.4292e-02],\n",
       "         [ 4.1132e-01, -1.5150e+00,  8.7162e-02,  ..., -8.9079e-02,\n",
       "          -4.6900e-02,  1.8972e-01],\n",
       "         [ 4.2977e-01, -1.2008e+00, -7.7758e-02,  ..., -5.2847e-02,\n",
       "          -9.4606e-02,  6.6996e-02]],\n",
       "\n",
       "        [[-8.0668e-02, -1.0516e+00, -1.7151e-02,  ..., -9.7180e-02,\n",
       "          -1.1555e-01, -6.9436e-02],\n",
       "         [ 2.9337e-01, -1.7559e+00, -1.5734e-01,  ..., -9.2917e-02,\n",
       "          -1.0225e-02,  7.4865e-02],\n",
       "         [-1.4982e+00, -1.0418e+00, -2.4782e-01,  ..., -1.5073e-01,\n",
       "          -1.7446e-02,  1.4547e-01],\n",
       "         ...,\n",
       "         [-3.7557e-01, -1.0741e+00, -2.1460e-01,  ..., -3.1607e-02,\n",
       "           7.7570e-03,  9.4292e-02],\n",
       "         [ 5.6443e-01, -1.6030e+00,  1.0402e-01,  ..., -8.9079e-02,\n",
       "          -4.6900e-02,  1.8972e-01],\n",
       "         [ 5.1244e-01, -1.1789e+00, -2.7398e-02,  ..., -5.2847e-02,\n",
       "          -9.4606e-02,  6.6996e-02]],\n",
       "\n",
       "        [[-7.3440e-02, -2.3065e+00, -6.1454e-01,  ..., -9.7180e-02,\n",
       "          -1.1555e-01, -6.9436e-02],\n",
       "         [ 3.2471e-01, -1.4873e+00, -1.5905e-01,  ..., -9.2917e-02,\n",
       "          -1.0225e-02,  7.4865e-02],\n",
       "         [-1.2476e+00, -9.6249e-01, -1.9370e-01,  ..., -1.5073e-01,\n",
       "          -1.7446e-02,  1.4547e-01],\n",
       "         ...,\n",
       "         [-1.6039e-01, -2.4165e+00, -7.1214e-01,  ..., -3.1607e-02,\n",
       "           7.7570e-03,  9.4292e-02],\n",
       "         [ 4.2447e-01, -1.6889e+00,  5.0409e-02,  ..., -8.9079e-02,\n",
       "          -4.6900e-02,  1.8972e-01],\n",
       "         [ 6.1306e-01, -9.8888e-01, -5.9034e-04,  ..., -5.2847e-02,\n",
       "          -9.4606e-02,  6.6996e-02]],\n",
       "\n",
       "        ...,\n",
       "\n",
       "        [[-1.4019e-01, -3.2890e+00, -6.5140e-01,  ..., -9.7180e-02,\n",
       "          -1.1555e-01, -6.9436e-02],\n",
       "         [ 2.7747e-01, -1.6001e+00, -1.2726e-01,  ..., -9.2917e-02,\n",
       "          -1.0225e-02,  7.4865e-02],\n",
       "         [-1.3632e+00, -1.6762e+00, -6.4253e-01,  ..., -1.5073e-01,\n",
       "          -1.7446e-02,  1.4547e-01],\n",
       "         ...,\n",
       "         [-3.0744e-01, -2.2813e+00, -6.5082e-01,  ..., -3.1607e-02,\n",
       "           7.7570e-03,  9.4292e-02],\n",
       "         [ 3.3282e-01, -1.6323e+00,  5.1074e-02,  ..., -8.9079e-02,\n",
       "          -4.6900e-02,  1.8972e-01],\n",
       "         [ 3.8773e-01, -1.2136e+00, -5.6674e-02,  ..., -5.2847e-02,\n",
       "          -9.4606e-02,  6.6996e-02]],\n",
       "\n",
       "        [[ 1.0009e-01, -2.7832e+00, -3.1385e-01,  ..., -9.7180e-02,\n",
       "          -1.1555e-01, -6.9436e-02],\n",
       "         [ 2.8148e-01, -2.0501e+00, -1.2799e-01,  ..., -9.2917e-02,\n",
       "          -1.0225e-02,  7.4865e-02],\n",
       "         [-1.5269e+00, -9.6328e-01, -1.8020e-01,  ..., -1.5073e-01,\n",
       "          -1.7446e-02,  1.4547e-01],\n",
       "         ...,\n",
       "         [-2.9707e-01, -9.1219e-01,  3.8683e-03,  ..., -3.1607e-02,\n",
       "           7.7570e-03,  9.4292e-02],\n",
       "         [ 4.2979e-01, -1.9695e+00,  2.1333e-01,  ..., -8.9079e-02,\n",
       "          -4.6900e-02,  1.8972e-01],\n",
       "         [ 5.3888e-01, -1.4262e+00,  1.3549e-01,  ..., -5.2847e-02,\n",
       "          -9.4606e-02,  6.6996e-02]],\n",
       "\n",
       "        [[-3.7485e-01, -1.8167e+00, -4.4346e-01,  ..., -9.7180e-02,\n",
       "          -1.1555e-01, -6.9436e-02],\n",
       "         [ 2.6510e-02, -3.2001e+00, -6.1891e-01,  ..., -9.2917e-02,\n",
       "          -1.0225e-02,  7.4865e-02],\n",
       "         [-1.3730e+00, -1.2182e+00, -3.1857e-01,  ..., -1.5073e-01,\n",
       "          -1.7446e-02,  1.4547e-01],\n",
       "         ...,\n",
       "         [-4.8139e-01, -1.3008e+00, -3.1543e-01,  ..., -3.1607e-02,\n",
       "           7.7570e-03,  9.4292e-02],\n",
       "         [ 4.0213e-01, -1.5012e+00,  3.9959e-03,  ..., -8.9079e-02,\n",
       "          -4.6900e-02,  1.8972e-01],\n",
       "         [ 4.4850e-01, -1.1598e+00, -1.6463e-01,  ..., -5.2847e-02,\n",
       "          -9.4606e-02,  6.6996e-02]]])"
      ]
     },
     "execution_count": 46,
     "metadata": {},
     "output_type": "execute_result"
    }
   ],
   "source": [
    "res2"
   ]
  },
  {
   "cell_type": "code",
   "execution_count": 47,
   "id": "3369f68d",
   "metadata": {},
   "outputs": [
    {
     "name": "stderr",
     "output_type": "stream",
     "text": [
      "100%|██████████| 4/4 [00:04<00:00,  1.22s/it]\n"
     ]
    }
   ],
   "source": [
    "# Extract expression values\n",
    "res3 = extract_feature(\n",
    "    expr_array= input_df.values[:16],\n",
    "    high_var_gene_idx=high_var_gene_idx,\n",
    "    feature_type='transcriptome_level',\n",
    "    aggregate_type='all',\n",
    "    device=device,\n",
    "    batch_size=4,\n",
    "    return_expr_value=True,\n",
    "    esm2_emb=model_params['gene_emb'],\n",
    "    valid_gene_idx=valid_gene_idx\n",
    ")"
   ]
  },
  {
   "cell_type": "code",
   "execution_count": 48,
   "id": "cb76cce0",
   "metadata": {},
   "outputs": [
    {
     "data": {
      "text/plain": [
       "(16, 20010)"
      ]
     },
     "execution_count": 48,
     "metadata": {},
     "output_type": "execute_result"
    }
   ],
   "source": [
    "res3.shape"
   ]
  },
  {
   "cell_type": "code",
   "execution_count": 49,
   "id": "3c579789",
   "metadata": {},
   "outputs": [
    {
     "data": {
      "text/plain": [
       "array([[3.7627857 , 0.33182847, 2.8268478 , ..., 3.5956197 , 0.40449452,\n",
       "        0.45241898],\n",
       "       [4.6875224 , 0.23467608, 3.7401597 , ..., 4.404271  , 0.25158244,\n",
       "        0.33082467],\n",
       "       [2.620734  , 0.33064708, 3.7773688 , ..., 2.4631546 , 0.3549513 ,\n",
       "        0.44277862],\n",
       "       ...,\n",
       "       [0.9660633 , 0.29477847, 2.812781  , ..., 2.8931031 , 0.3250854 ,\n",
       "        0.40352863],\n",
       "       [0.39897698, 0.168719  , 3.5321    , ..., 4.6415453 , 0.23221342,\n",
       "        0.27521023],\n",
       "       [3.5847843 , 0.8626206 , 3.2892735 , ..., 4.1765776 , 0.46255967,\n",
       "        0.5074125 ]], dtype=float32)"
      ]
     },
     "execution_count": 49,
     "metadata": {},
     "output_type": "execute_result"
    }
   ],
   "source": [
    "res3"
   ]
  },
  {
   "cell_type": "code",
   "execution_count": null,
   "id": "511d5ced",
   "metadata": {},
   "outputs": [],
   "source": []
  }
 ],
 "metadata": {
  "kernelspec": {
   "display_name": "bulk",
   "language": "python",
   "name": "python3"
  },
  "language_info": {
   "codemirror_mode": {
    "name": "ipython",
    "version": 3
   },
   "file_extension": ".py",
   "mimetype": "text/x-python",
   "name": "python",
   "nbconvert_exporter": "python",
   "pygments_lexer": "ipython3",
   "version": "3.12.7"
  }
 },
 "nbformat": 4,
 "nbformat_minor": 5
}
